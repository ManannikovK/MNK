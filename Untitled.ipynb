{
 "cells": [
  {
   "cell_type": "markdown",
   "metadata": {},
   "source": [
    "Введите путь до эксель файла "
   ]
  },
  {
   "cell_type": "code",
   "execution_count": 8,
   "metadata": {},
   "outputs": [
    {
     "name": "stdout",
     "output_type": "stream",
     "text": [
      "ex.xlsx\n"
     ]
    }
   ],
   "source": [
    "file = input()"
   ]
  },
  {
   "cell_type": "markdown",
   "metadata": {},
   "source": [
    "Введите навание графика"
   ]
  },
  {
   "cell_type": "code",
   "execution_count": 2,
   "metadata": {},
   "outputs": [
    {
     "name": "stdout",
     "output_type": "stream",
     "text": [
      "Зависимость Vср от V_R\n"
     ]
    }
   ],
   "source": [
    "grname = input()"
   ]
  },
  {
   "cell_type": "markdown",
   "metadata": {},
   "source": [
    "Введите названия осей "
   ]
  },
  {
   "cell_type": "code",
   "execution_count": 3,
   "metadata": {},
   "outputs": [
    {
     "name": "stdout",
     "output_type": "stream",
     "text": [
      "Напряжение резистора V_R, мВ\n"
     ]
    }
   ],
   "source": [
    "xname = input()"
   ]
  },
  {
   "cell_type": "code",
   "execution_count": 4,
   "metadata": {},
   "outputs": [
    {
     "name": "stdout",
     "output_type": "stream",
     "text": [
      "Напряжение на  катушке Vср, мВ\n"
     ]
    }
   ],
   "source": [
    "yname = input()"
   ]
  },
  {
   "cell_type": "code",
   "execution_count": 9,
   "metadata": {},
   "outputs": [],
   "source": [
    "import pandas as pd\n",
    "xl = pd.read_excel(file)"
   ]
  },
  {
   "cell_type": "code",
   "execution_count": 14,
   "metadata": {},
   "outputs": [
    {
     "data": {
      "image/png": "[encoded data removed]",
      "text/plain": [
       "<matplotlib.figure.Figure at 0x1f6d12c6cf8>"
      ]
     },
     "metadata": {},
     "output_type": "display_data"
    }
   ],
   "source": [
    "%matplotlib inline\n",
    "import numpy as np\n",
    "import matplotlib.pyplot as plt\n",
    "\n",
    "n = len(xl[xname]) - 1\n",
    "\n",
    "sx = xl[xname][0]\n",
    "sy = xl[yname][0]\n",
    "\n",
    "d = 500\n",
    "\n",
    "def normalmass(x, sigma):\n",
    "    y = []\n",
    "    for i in range(n):\n",
    "        y.append(np.random.normal(x[i], sigma))\n",
    "    return y\n",
    "\n",
    "\n",
    "\n",
    "fig = plt.figure()\n",
    "ax = fig.add_subplot(111)\n",
    "ax.set_title(grname)\n",
    "ax.set_xlabel(xname)\n",
    "ax.set_ylabel(yname)\n",
    "\n",
    "ax.minorticks_on()\n",
    "\n",
    "\n",
    "x2 = []\n",
    "y2 = []\n",
    "for i in range(n):\n",
    "    x2.append(xl[xname][i+1])\n",
    "    y2.append(xl[yname][i+1])\n",
    "    \n",
    "\n",
    "a = []\n",
    "b = []\n",
    "k = []\n",
    "sigma_a = []\n",
    "sigma_b = []\n",
    "sigma_k = []\n",
    "\n",
    "for i in range(d):\n",
    "    nx2 = normalmass(x2,  sx)\n",
    "    ny2 = normalmass(y2,  sy)\n",
    "    \n",
    "    avxs = sum([nx2[i] for i in  range(1,n)])/n\n",
    "    avys = sum([ny2[i] for i in  range(0,n)])/n\n",
    "    avxys = sum([nx2[i]*y2[i] for i in  range(0,n)])/n\n",
    "    avx2s = sum([nx2[i]**2 for i in  range(0,n)])/n\n",
    "    avy2s = sum([ny2[i]**2 for i in  range(0,n)])/n\n",
    "    \n",
    "    b.append((avxys - avxs*avys)/(avx2s - avxs**2))\n",
    "    a.append(avys - b[i]*avxs)\n",
    "    k.append(avxys / avx2s)\n",
    "    sigma_b.append((( avy2s - avys**2)/(avx2s - avxs**2))**(1/2) / (n)**(1/2))\n",
    "    sigma_a.append(sigma_b[i]*(avx2s - avxs**2)**(1/2))\n",
    "\n",
    "best_a = sum([a[i] for i in  range(0,d)])/d\n",
    "best_b = sum([b[i] for i in  range(0,d)])/d\n",
    "\n",
    "best_k = sum([k[i] for i in  range(0,d)])/d\n",
    "\n",
    "total_sigma_b = sum([sigma_b[i] for i in  range(0,d)])/d\n",
    "total_sigma_a = sum([sigma_a[i] for i in  range(0,d)])/d\n",
    "\n",
    "total_sigma_k = total_sigma_b\n",
    "\n",
    "p = lambda x: best_k*x\n",
    "\n",
    "x = np.linspace(0, 12, 100)\n",
    "y = p(x)\n",
    "\n",
    "sigmab = (())\n",
    "xerr = sx\n",
    "yerr = sy\n",
    "\n",
    "ax.plot(x, y, color = 'red')\n",
    "\n",
    "\n",
    "\n",
    "ax.grid(which='major', color = 'black')\n",
    "\n",
    "ax.grid(which='minor', linewidth = 0.5)\n",
    "\n",
    "ax.scatter(x2, y2, color = 'blue')\n",
    "\n",
    "ax.errorbar(x2, y2, xerr=xerr, yerr=yerr, color = 'blue', marker='o', linestyle='None', elinewidth = 2)\n",
    "\n",
    "\n",
    "plt.show()"
   ]
  },
  {
   "cell_type": "code",
   "execution_count": 15,
   "metadata": {},
   "outputs": [
    {
     "name": "stdout",
     "output_type": "stream",
     "text": [
      "k =  0.1201101854359111\n"
     ]
    }
   ],
   "source": [
    "print('k = ', best_k)\n",
    "\n"
   ]
  },
  {
   "cell_type": "markdown",
   "metadata": {},
   "source": [
    "$\\sigma_{k} = $"
   ]
  },
  {
   "cell_type": "code",
   "execution_count": 17,
   "metadata": {},
   "outputs": [
    {
     "name": "stdout",
     "output_type": "stream",
     "text": [
      "0.03310790846284978\n"
     ]
    }
   ],
   "source": [
    "print(total_sigma_b)"
   ]
  },
  {
   "cell_type": "markdown",
   "metadata": {},
   "source": [
    "$\\sigma_{b} = $"
   ]
  },
  {
   "cell_type": "code",
   "execution_count": null,
   "metadata": {},
   "outputs": [],
   "source": [
    "print( total_sigma_b)"
   ]
  },
  {
   "cell_type": "code",
   "execution_count": null,
   "metadata": {},
   "outputs": [],
   "source": []
  }
 ],
 "metadata": {
  "kernelspec": {
   "display_name": "Python 3",
   "language": "python",
   "name": "python3"
  },
  "language_info": {
   "codemirror_mode": {
    "name": "ipython",
    "version": 3
   },
   "file_extension": ".py",
   "mimetype": "text/x-python",
   "name": "python",
   "nbconvert_exporter": "python",
   "pygments_lexer": "ipython3",
   "version": "3.6.4"
  }
 },
 "nbformat": 4,
 "nbformat_minor": 2
}
